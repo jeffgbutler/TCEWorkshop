{
 "cells": [
  {
   "cell_type": "markdown",
   "metadata": {
    "pycharm": {
     "name": "#%% md\n"
    }
   },
   "source": [
    "## Simple Example\n",
    "\n",
    "Here is a simple example. Suppose we have a file named `MyName.yaml` like this:\n",
    "\n",
    "```yaml\n",
    "#@ load(\"@ytt:data\", \"data\")\n",
    "my:\n",
    "  name:\n",
    "    is: #@ data.values.my_name\n",
    "```\n",
    "\n",
    "All YTT commands look like YAML comments, so YAML templates are valid YAML and will pass validation tools.\n",
    "In the source file, there are two YTT commands:\n",
    "\n",
    "1. `#@ load(\"@ytt:data\", \"data\")` - this instructs YTT to load that `data` module and make all the `data` values available with the key `data.values` (`values` is built in and provides access to the individual data elements.)\n",
    "2. `#@ data.values.my_name` - this instructs YTT to insert the data value `my_name` into the YAML at this position\n",
    "\n",
    "Data values can come from a variety of sources - most commonly from command line flags as shown above, or from a file as we\n",
    "will show below.\n",
    "\n",
    "We can execute YTT with the following command:\n"
   ]
  },
  {
   "cell_type": "code",
   "execution_count": null,
   "metadata": {
    "vscode": {
     "languageId": "shellscript"
    },
    "pycharm": {
     "name": "#%%\n"
    }
   },
   "outputs": [],
   "source": [
    "ytt -f MyName.yaml -v my_name=Fred | yq"
   ]
  },
  {
   "cell_type": "markdown",
   "metadata": {
    "pycharm": {
     "name": "#%% md\n"
    }
   },
   "source": [
    "## Multiple Input Files\n",
    "\n",
    "If you supply multiple input files to YTT, the output will be a single consolidated YAML file. For example, suppose\n",
    "there are two input files named `MyName.yaml` and `YourName.yaml` as shown below:\n",
    "\n",
    "```yaml\n",
    "#@ load(\"@ytt:data\", \"data\")\n",
    "my:\n",
    "  name:\n",
    "    is: #@ data.values.my_name\n",
    "```\n",
    "\n",
    "\n",
    "```yaml\n",
    "#@ load(\"@ytt:data\", \"data\")\n",
    "your:\n",
    "  name:\n",
    "    is: #@ data.values.your_name\n",
    "```\n",
    "\n",
    "YTT will create a single output YAML and substitute the correct values in each input file.\n"
   ]
  },
  {
   "cell_type": "code",
   "execution_count": null,
   "metadata": {
    "vscode": {
     "languageId": "shellscript"
    },
    "pycharm": {
     "name": "#%%\n"
    }
   },
   "outputs": [],
   "source": [
    "ytt -f MyName.yaml -f YourName.yaml -v my_name=Fred -v your_name=Wilma | yq"
   ]
  },
  {
   "cell_type": "markdown",
   "metadata": {
    "pycharm": {
     "name": "#%% md\n"
    }
   },
   "source": [
    "## Using a Values Input File\n",
    "\n",
    "Rather than specifying data values with command line flags, you can also use a file (commonly named `values.yaml`) to\n",
    "supply input values. For example, suppose we have the same two input files from above, but now we have another file\n",
    "named `values.yaml` with content as shown below:\n",
    "\n",
    "```yaml\n",
    "my_name: Fred\n",
    "your_name: Wilma\n",
    "```\n",
    "\n",
    "YTT will create the same output as before and substitute the correct values in each input file.\n"
   ]
  },
  {
   "cell_type": "code",
   "execution_count": null,
   "metadata": {
    "vscode": {
     "languageId": "shellscript"
    },
    "pycharm": {
     "name": "#%%\n"
    }
   },
   "outputs": [],
   "source": [
    "ytt -f MyName.yaml -f YourName.yaml --data-values-file values.yaml | yq"
   ]
  },
  {
   "cell_type": "markdown",
   "metadata": {
    "pycharm": {
     "name": "#%% md\n"
    }
   },
   "source": [
    "## YTT Schema\n",
    "\n",
    "A schema file can be used to document the variables that are expected in a template, and provide default values for them.\n",
    "\n",
    "Here is a simple example. Suppose we have a YAML file named `schema.yaml` like this:\n",
    "\n",
    "```yaml\n",
    "#@data/values-schema\n",
    "---\n",
    "my_name: Barney\n",
    "\n",
    "#@schema/nullable\n",
    "your_name: \"\"\n",
    "```\n",
    "\n",
    "This file indicates two variables - our familiar `my_name` and `your_name`. The `my_name` variable has a default value of \"Barney\".\n",
    "The `your_name` variable is in a section denoted \"nullable\" - which means that if no value is specified for that variable, it's value\n",
    "will be null."
   ]
  },
  {
   "cell_type": "code",
   "execution_count": null,
   "metadata": {
    "vscode": {
     "languageId": "shellscript"
    },
    "pycharm": {
     "name": "#%%\n"
    }
   },
   "outputs": [],
   "source": [
    "ytt -f MyName.yaml -f YourName.yaml -f schema.yaml | yq"
   ]
  },
  {
   "cell_type": "markdown",
   "metadata": {
    "pycharm": {
     "name": "#%% md\n"
    }
   },
   "source": [
    "You can see that the default values were used for both `my_name` and `your_name`. The \"null\" for `your_name` isn't great - we'll deal\n",
    "with that in the next section.\n",
    "\n",
    "Of course, we can supply values for these variable in the normal way. So this command produces what we've seen before:"
   ]
  },
  {
   "cell_type": "code",
   "execution_count": null,
   "metadata": {
    "vscode": {
     "languageId": "shellscript"
    },
    "pycharm": {
     "name": "#%%\n"
    }
   },
   "outputs": [],
   "source": [
    "ytt -f MyName.yaml -f YourName.yaml -f schema.yaml --data-values-file values.yaml | yq"
   ]
  },
  {
   "cell_type": "markdown",
   "metadata": {
    "pycharm": {
     "name": "#%% md\n"
    }
   },
   "source": [
    "## YTT Functions\n",
    "\n",
    "You can define functions in YTT that do a variety of things. One very useful thing to do with a function is to calculate and return a YAML fragment.\n",
    "\n",
    "Suppose we have an input file named `YTTFunctions.yaml` like this:\n",
    "\n",
    "```yaml\n",
    "#@ load(\"@ytt:data\", \"data\")\n",
    "\n",
    "#@ def labels():\n",
    "type: Name\n",
    "generated: true\n",
    "#@ end\n",
    "\n",
    "#@ def/end name(name):\n",
    "name:\n",
    "  #! intentional blank line below ignored by YTT\n",
    "\n",
    "  is: #@ name\n",
    "  labels: #@ labels()\n",
    "\n",
    "my: #@ name(data.values.my_name)\n",
    "#@ if/end data.values.your_name:\n",
    "---\n",
    "your: #@ name(data.values.your_name)\n",
    "```\n",
    "\n",
    "There's a lot to unpack here!\n",
    "\n",
    "1. Functions begin with `def function_name(parameters...):` and end with `end`. On line 3 we define a function named `labels`\n",
    "   that accepts no parameters. This function returns a YAML fragment with two nodes - two hard coded labels.\n",
    "2. On line 8 we define a function named `name` that accepts one parameter - also called `name`. This function looks strange\n",
    "   because of the usage of `def/end`. This is a shortcut we can use when the function returns a single thing. The definition of \"single thing\"\n",
    "   can be elusive and confusing. In this case, the function is returning a single YAML node. Note that the end of the node is NOT\n",
    "   the blank line on line 11. Rather it is the logical end of the node on line 13. This illustrates that YTT is \"YAML aware\". Also,\n",
    "   please don't write functions like this in real life!\n",
    "3. On line 10 we have a YTT comment (starts with `#!`) YTT will strip comments in the resulting YAML.\n",
    "4. On line 12 we are using the parameter passed into the function\n",
    "5. On line 13 we are calling the `labels` function. YTT is smart enough to know that the YAML fragment returned from the `labels`\n",
    "   function should be a child of the node on line 13. We don't need to worry about indenting and formatting - YTT will do it for us\n",
    "6. On line 15 we call the `name` function passing in an expected input value. Again, the resulting YAML fragment will be properly\n",
    "   indented and formatted as a child of the node on line 15.\n",
    "7. On line 16 there is an \"if\" statement using the same type of shortcut we saw before as `if/end`. If we need more than one thing\n",
    "   output from the \"if\" statement we can move the \"end\" to a separate line as with functions. This \"if\" statement checks for a null value\n",
    "   (which is our default for `your_name`) - it will only write the YAML fragment if the value is not null.\n",
    "\n",
    "We can execute YTT with the following command:"
   ]
  },
  {
   "cell_type": "code",
   "execution_count": null,
   "metadata": {
    "vscode": {
     "languageId": "shellscript"
    },
    "pycharm": {
     "name": "#%%\n"
    }
   },
   "outputs": [],
   "source": [
    "ytt -f YTTFunctions.yaml -f schema.yaml --data-values-file values.yaml | yq"
   ]
  },
  {
   "cell_type": "markdown",
   "metadata": {
    "pycharm": {
     "name": "#%% md\n"
    }
   },
   "source": [
    "Is that what you expected? What happens if we omit the values file?"
   ]
  },
  {
   "cell_type": "code",
   "execution_count": null,
   "metadata": {
    "vscode": {
     "languageId": "shellscript"
    },
    "pycharm": {
     "name": "#%%\n"
    }
   },
   "outputs": [],
   "source": [
    "ytt -f YTTFunctions.yaml -f schema.yaml | yq"
   ]
  },
  {
   "cell_type": "markdown",
   "metadata": {
    "pycharm": {
     "name": "#%% md\n"
    }
   },
   "source": [
    "## YTT Built-In Functions\n",
    "\n",
    "YTT comes with many built-in functions for building more complex YAML. We will show one more example using the `json` and `base64`\n",
    "modules to create a Kubernetes secret.\n",
    "\n",
    "Suppose we have an input file named `Secret.yaml` like this:\n",
    "\n",
    "```yaml\n",
    "#@ load(\"@ytt:data\", \"data\")\n",
    "#@ load(\"@ytt:json\", \"json\")\n",
    "#@ load(\"@ytt:base64\", \"base64\")\n",
    "apiVersion: v1\n",
    "kind: Secret\n",
    "metadata:\n",
    "  name: #@ data.values.registry.secret.name\n",
    "type: kubernetes.io/dockerconfigjson\n",
    "data:\n",
    "  #@ registry_creds = {\"username\": data.values.registry.username, \"password\": data.values.registry.password}\n",
    "  #@ encoded_creds = base64.encode(json.encode({\"auths\": {data.values.registry.server: registry_creds}}))\n",
    "  .dockerconfigjson: #@ encoded_creds\n",
    "```\n",
    "\n",
    "This file loads the normal `data` module we are used to, but also loads `json` and `base64` modules. These modules\n",
    "include encoding functions we can use to encode JSON (in case a supplied password has any special characters), and\n",
    "then we can Base64 encode a string for setting the secret value. You can also see that we declare local variables\n",
    "names `registry_creds` and `encoded_creds` using YTT.\n",
    "\n",
    "Now we can combine this file with a `SecretValues.yaml` file like this:\n",
    "\n",
    "\n",
    "```yaml\n",
    "registry:\n",
    "  server: docker.io\n",
    "  username: fred\n",
    "  password: password1234\n",
    "  secret:\n",
    "    name: my-secret\n",
    "```\n",
    "\n",
    "We can execute YTT with the following command:"
   ]
  },
  {
   "cell_type": "code",
   "execution_count": null,
   "metadata": {
    "vscode": {
     "languageId": "shellscript"
    },
    "pycharm": {
     "name": "#%%\n"
    }
   },
   "outputs": [],
   "source": [
    "ytt -f Secret.yaml --data-values-file SecretValues.yaml | yq"
   ]
  },
  {
   "cell_type": "markdown",
   "metadata": {
    "pycharm": {
     "name": "#%% md\n"
    }
   },
   "source": [
    "You can see that YTT has composed a properly encoded secret for the Kubernetes secret definition.\n",
    "\n",
    "Normally, YTT does not save its output anywhere - it just pipes the output to stdout.\n",
    "You can pipe YTT output to `kubectl` and create the secret in a single command:"
   ]
  },
  {
   "cell_type": "code",
   "execution_count": null,
   "metadata": {
    "vscode": {
     "languageId": "shellscript"
    },
    "pycharm": {
     "name": "#%%\n"
    }
   },
   "outputs": [],
   "source": [
    "ytt -f Secret.yaml --data-values-file SecretValues.yaml | kubectl create -f-"
   ]
  },
  {
   "cell_type": "markdown",
   "metadata": {
    "pycharm": {
     "name": "#%% md\n"
    }
   },
   "source": [
    "Many of the Tanzu configuration commands make use of YTT to perform functions like this. In addition, the Kapp Controller and\n",
    "Cartographer both support YTT templating in their CRDs as we shall see shortly."
   ]
  }
 ],
 "metadata": {
  "kernelspec": {
   "display_name": "Bash",
   "language": "bash",
   "name": "bash"
  },
  "language_info": {
   "codemirror_mode": "shell",
   "file_extension": ".sh",
   "mimetype": "text/x-sh",
   "name": "bash"
  },
  "orig_nbformat": 4,
  "vscode": {
   "interpreter": {
    "hash": "b0fa6594d8f4cbf19f97940f81e996739fb7646882a419484c72d19e05852a7e"
   }
  }
 },
 "nbformat": 4,
 "nbformat_minor": 2
}