{
 "cells": [
  {
   "cell_type": "markdown",
   "metadata": {
    "pycharm": {
     "name": "#%% md\n"
    }
   },
   "source": [
    "## Kbld Image Resolution\n",
    "\n",
    "In a very simple usage, kbld will seach Kubernetes YAML for image references and will transform the YAML to use\n",
    "digests instead of labels. This can be useful to convert Kubernetes YAML to use immutable image references.\n",
    "\n",
    "For example, suppose we have a simple Kubernetes pod definition like this:\n",
    "\n",
    "```yaml\n",
    "apiVersion: v1\n",
    "kind: Pod\n",
    "metadata:\n",
    "  name: nginx\n",
    "  labels:\n",
    "    name: nginx\n",
    "spec:\n",
    "  containers:\n",
    "  - name: nginx\n",
    "    image: nginx\n",
    "    resources:\n",
    "      limits:\n",
    "        memory: \"128Mi\"\n",
    "        cpu: \"500m\"\n",
    "```\n",
    "\n",
    "We can run kbld with a command like this:"
   ]
  },
  {
   "cell_type": "code",
   "execution_count": null,
   "metadata": {
    "vscode": {
     "languageId": "shellscript"
    },
    "pycharm": {
     "name": "#%%\n"
    }
   },
   "outputs": [],
   "source": [
    "kbld -f nginx-pod.yaml | yq"
   ]
  },
  {
   "cell_type": "markdown",
   "metadata": {
    "pycharm": {
     "name": "#%% md\n"
    }
   },
   "source": [
    "Notice two things:\n",
    "\n",
    "1. The `spec.containers.image` reference was changed to use the digest of the nginx image. Note that we are using the \"latest\"\n",
    "   tag so the digest may be different if you run this command\n",
    "2. Kbld changed the image reference to the fully qualified value (including `index.docker.io/library/`)\n",
    "3. Kbld added an annotation `kbld.k14s.io/images` that details the before and after versions that were transformed\n",
    "\n",
    "Kbld can accept multiple input files, and can also transform all the YAML in a directory. The output will be a single\n",
    "consolidated YAML composed of all the input files. For example, you could transform all YAML in a directory with a command like this:"
   ]
  },
  {
   "cell_type": "code",
   "execution_count": null,
   "metadata": {
    "vscode": {
     "languageId": "shellscript"
    },
    "pycharm": {
     "name": "#%%\n"
    }
   },
   "outputs": [],
   "source": [
    "kbld -f . | yq"
   ]
  },
  {
   "cell_type": "markdown",
   "metadata": {
    "pycharm": {
     "name": "#%% md\n"
    }
   },
   "source": [
    "Finally, you can pipe the output from kbld directly to Kubectl with a command like this:"
   ]
  },
  {
   "cell_type": "code",
   "execution_count": null,
   "metadata": {
    "vscode": {
     "languageId": "shellscript"
    },
    "pycharm": {
     "name": "#%%\n"
    }
   },
   "outputs": [],
   "source": [
    "kbld -f . | kubectl apply -f-"
   ]
  }
 ],
 "metadata": {
  "kernelspec": {
   "display_name": "Bash",
   "language": "bash",
   "name": "bash"
  },
  "language_info": {
   "codemirror_mode": "shell",
   "file_extension": ".sh",
   "mimetype": "text/x-sh",
   "name": "bash"
  },
  "orig_nbformat": 4,
  "vscode": {
   "interpreter": {
    "hash": "b0fa6594d8f4cbf19f97940f81e996739fb7646882a419484c72d19e05852a7e"
   }
  }
 },
 "nbformat": 4,
 "nbformat_minor": 2
}