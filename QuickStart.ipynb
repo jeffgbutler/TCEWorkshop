{
 "cells": [
  {
   "cell_type": "code",
   "execution_count": null,
   "metadata": {
    "vscode": {
     "languageId": "shellscript"
    }
   },
   "outputs": [],
   "source": [
    "tanzu unmanaged-cluster create tceworkshop --port-map '80:80,443:443'"
   ]
  },
  {
   "cell_type": "code",
   "execution_count": null,
   "metadata": {
    "vscode": {
     "languageId": "shellscript"
    }
   },
   "outputs": [],
   "source": [
    "kubectl create secret docker-registry registry-credentials \\\n",
    "  --docker-server=harbor.tanzuathome.net \\\n",
    "  --docker-username=admin \\\n",
    "  --docker-password=Harbor12345"
   ]
  },
  {
   "cell_type": "code",
   "execution_count": null,
   "metadata": {
    "vscode": {
     "languageId": "shellscript"
    }
   },
   "outputs": [],
   "source": [
    "tanzu package install app-toolkit\\\n",
    "  --package-name app-toolkit.community.tanzu.vmware.com \\\n",
    "  --version 0.2.0 \\\n",
    "  --values-file 03-app-toolkit/config/app-toolkit-values.yaml"
   ]
  },
  {
   "cell_type": "code",
   "execution_count": null,
   "metadata": {
    "vscode": {
     "languageId": "shellscript"
    }
   },
   "outputs": [],
   "source": [
    "tanzu unmanaged-cluster delete tceworkshop"
   ]
  }
 ],
 "metadata": {
  "kernelspec": {
   "display_name": "Bash",
   "language": "bash",
   "name": "bash"
  },
  "language_info": {
   "codemirror_mode": "shell",
   "file_extension": ".sh",
   "mimetype": "text/x-sh",
   "name": "bash"
  },
  "orig_nbformat": 4
 },
 "nbformat": 4,
 "nbformat_minor": 2
}
